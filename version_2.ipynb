{
 "cells": [
  {
   "cell_type": "markdown",
   "id": "d8ace09c",
   "metadata": {},
   "source": [
    "# PoC : News RAG LLM"
   ]
  },
  {
   "cell_type": "markdown",
   "id": "1f9fe95f",
   "metadata": {},
   "source": [
    "1. Split data in chunks\n",
    "2. Create embeddings and Faiss index; (Semanntic search)\n",
    "3. Implement TF-IDF and cosine similairty (keyword search)\n",
    "4. Create Hybrid-search (semantic + keyword)\n",
    "5. Create Agent for summary generation \n",
    "6. Create Agent for linkedin post generation\n",
    "7. Create request logic; manages all the agents"
   ]
  },
  {
   "cell_type": "code",
   "execution_count": 1,
   "id": "75006390",
   "metadata": {},
   "outputs": [],
   "source": [
    "import pandas as pd\n",
    "import numpy as np \n"
   ]
  },
  {
   "cell_type": "code",
   "execution_count": null,
   "id": "c6102ab5",
   "metadata": {},
   "outputs": [
    {
     "name": "stdout",
     "output_type": "stream",
     "text": [
      " the dataset has 20953 rows and 1 features\n"
     ]
    },
    {
     "data": {
      "text/html": [
       "<div>\n",
       "<style scoped>\n",
       "    .dataframe tbody tr th:only-of-type {\n",
       "        vertical-align: middle;\n",
       "    }\n",
       "\n",
       "    .dataframe tbody tr th {\n",
       "        vertical-align: top;\n",
       "    }\n",
       "\n",
       "    .dataframe thead th {\n",
       "        text-align: right;\n",
       "    }\n",
       "</style>\n",
       "<table border=\"1\" class=\"dataframe\">\n",
       "  <thead>\n",
       "    <tr style=\"text-align: right;\">\n",
       "      <th></th>\n",
       "      <th>document</th>\n",
       "    </tr>\n",
       "  </thead>\n",
       "  <tbody>\n",
       "    <tr>\n",
       "      <th>0</th>\n",
       "      <td>Headline: What If We Were All Family Generatio...</td>\n",
       "    </tr>\n",
       "    <tr>\n",
       "      <th>1</th>\n",
       "      <td>Headline: Firestorm At AOL Over Employee Benef...</td>\n",
       "    </tr>\n",
       "  </tbody>\n",
       "</table>\n",
       "</div>"
      ],
      "text/plain": [
       "                                            document\n",
       "0  Headline: What If We Were All Family Generatio...\n",
       "1  Headline: Firestorm At AOL Over Employee Benef..."
      ]
     },
     "execution_count": 2,
     "metadata": {},
     "output_type": "execute_result"
    }
   ],
   "source": [
    "#load dataset\n",
    "news_df = pd.read_csv('news_category_dataset.csv', \n",
    "                      usecols=['document']) #load dataset\n",
    "\n",
    "print(f\" the dataset has {news_df.shape[0]} rows and {news_df.shape[1]} features\")\n",
    "\n",
    "news_df.head(2)"
   ]
  },
  {
   "cell_type": "markdown",
   "id": "8c827715",
   "metadata": {},
   "source": [
    "## User Defined Functions"
   ]
  },
  {
   "cell_type": "code",
   "execution_count": 3,
   "id": "dcfbf3d0",
   "metadata": {},
   "outputs": [],
   "source": [
    "def chunking_doc(document):\n",
    "    from langchain_text_splitters import RecursiveCharacterTextSplitter\n",
    "\n",
    "    text_splitter = RecursiveCharacterTextSplitter(chunk_size=512, chunk_overlap=64)\n",
    "    chunk_documents = text_splitter.split_text(document) if document else []\n",
    "    #print(f\"Document chunked successfully.\\n Document has {len(chunk_documents)} pages\")\n",
    "\n",
    "    return chunk_documents"
   ]
  },
  {
   "cell_type": "code",
   "execution_count": 4,
   "id": "a44b88c3",
   "metadata": {},
   "outputs": [],
   "source": [
    "def initialize_embedding(model_name):\n",
    "    \"initialize embedding model\"\n",
    "    from sentence_transformers import SentenceTransformer #load library\n",
    "\n",
    "    if isinstance(model_name,str):\n",
    "        model_name = model_name\n",
    "\n",
    "        #initialize embedding model using Sentence Transformer\n",
    "        model_embedding = SentenceTransformer(model_name)\n",
    "\n",
    "        #save model for reuse\n",
    "        model_embedding.save(\"./embedding_model\") #saves config + model weights\n",
    "\n",
    "        return model_embedding\n",
    "    else:\n",
    "        raise TypeError(\"The model_name must be a string.\")"
   ]
  },
  {
   "cell_type": "code",
   "execution_count": 5,
   "id": "c407dd9c",
   "metadata": {},
   "outputs": [],
   "source": [
    "def load_embedding_model(file_path,device_name):\n",
    "\n",
    "    '''Function to load embedding model '''  \n",
    "    from langchain_community.embeddings import HuggingFaceEmbeddings\n",
    "\n",
    "    if isinstance(file_path,str) and isinstance(device_name,str):\n",
    "        emb_model_id = file_path\n",
    "        model_kwargs = {'device': device_name}\n",
    "        encode_kwargs = {\"normalize_embeddings\": False}\n",
    "\n",
    "        #initialize embedding model\n",
    "        embedding_model= HuggingFaceEmbeddings(model_name=emb_model_id,\n",
    "                                               model_kwargs= model_kwargs,\n",
    "                                               encode_kwargs=encode_kwargs\n",
    "                                               )\n",
    "    \n",
    "        return embedding_model\n",
    "    else:\n",
    "        raise TypeError(\"The file path and device_name must be a string.\")"
   ]
  },
  {
   "cell_type": "code",
   "execution_count": 6,
   "id": "0d9ac174",
   "metadata": {},
   "outputs": [],
   "source": [
    "def initialize_faiss(document,embedding_model):\n",
    "    ''' Create and save FAISS index'''\n",
    "    import faiss\n",
    "    from langchain.schema import Document\n",
    "    from langchain_community.vectorstores import FAISS\n",
    "\n",
    "    # Wrap the text chunks into Document objects with page_content\n",
    "    documents = [Document(page_content=doc) for doc in document]\n",
    "\n",
    "    #create FAISS index\n",
    "    faiss_index = FAISS.from_documents(documents,embedding_model)\n",
    "\n",
    "    #save FAISS index\n",
    "    faiss_index.save_local(\"./faiss_index\")\n",
    "\n",
    "    return faiss_index  "
   ]
  },
  {
   "cell_type": "code",
   "execution_count": 7,
   "id": "677f0326",
   "metadata": {},
   "outputs": [],
   "source": [
    "def load_faiss_index(file_path,embedding_model):\n",
    "    '''load saved faiss index'''\n",
    "    import faiss\n",
    "    from langchain_community.vectorstores import FAISS\n",
    "    from langchain_community.embeddings import HuggingFaceEmbeddings\n",
    "    \n",
    "    if isinstance(file_path,str):\n",
    "        faiss_index = FAISS.load_local(file_path,\n",
    "                                       embedding_model,\n",
    "                                       allow_dangerous_deserialization=True ) # Enable safe loading\n",
    "        return faiss_index\n",
    "    \n",
    "    else:\n",
    "        raise TypeError('The file path must be string.')"
   ]
  },
  {
   "cell_type": "markdown",
   "id": "82b76904",
   "metadata": {},
   "source": [
    "## 1. Split data in chunks"
   ]
  },
  {
   "cell_type": "code",
   "execution_count": 8,
   "id": "ea67ff02",
   "metadata": {},
   "outputs": [
    {
     "name": "stdout",
     "output_type": "stream",
     "text": [
      "[\"Headline: What If We Were All Family Generation Changers?\\nDate: 2014-06-20\\nAuthor: Matt Murrie, ContributorEdupreneur, Cofounder/Chief Curiosity Curator of What If...?\\nSummary: What if, in doing so, we won't just create new opportunities for ourselves, we'll also uncover ways to create new opportunities for our families that may not have otherwise existed?\\nArticle: In Tara Stone's conversation from the What If...? Conference this past March she begins with the recognition that there is no such thing as a perfect family. It's up to us to be the difference that can make our families better. Tara urges us to go beyond the standards our families have provided and challenges us to push down new paths. What if, in doing so, we won't just create new opportunities for ourselves, we'll also uncover ways to create new opportunities for our families that may not have otherwise existed? The life you have doesn't mean it's the life you've been given. Sometimes we can make the biggest impact on the world by starting with our family. Tara's talk defines generation changers and provides a path of five steps you can take to set the stage for those who come after you. What if you can become a family generation changer? What changes are you going to make to set a new course for the future of your family? A proactive, self-help junkie and advisor in the Student Success Center at Missouri S&T where she graduated with her BS and MS in Technical Communication, Tara is the creator of Remarkable180 that encourages people to stop existing and start living by making changes in their life. Big money interests are running the government — and influencing the news you read. While other outlets are retreating behind paywalls and bending the knee to political pressure, HuffPost is proud to be unbought and unfiltered.Will you help us keep it that way?You can even access our stories ad-free. You've supported HuffPost before, and we'll be honest — we could use your help again. We won't back down from our mission of providing free, fair news during this critical moment. But we can't do it without you. For the first time,we're offering an ad-free experienceto qualifying contributors who support our fearless journalism. We hope you'll join us. You've supported HuffPost before, and we'll be honest — we could use your help again. We won't back down from our mission of providing free, fair news during this critical moment. But we can't do it without you. For the first time,we're offering an ad-free experienceto qualifying contributors who support our fearless journalism. We hope you'll join us. Already contributed?Log in to hide these messages. What If We Were All Family Generation Changers? By entering your email and clicking Sign Up, you're agreeing to let us send you customized marketing messages about us and our advertising partners. You are also agreeing to ourTerms of ServiceandPrivacy Policy.\", 'Headline: Firestorm At AOL Over Employee Benefit Cuts\\nDate: 2014-02-08\\nSummary: It should have been a glorious week for AOL chief executive Tim Armstrong. His company’s quarterly earnings, announced Thursday'] \n",
      "\n",
      "67250\n"
     ]
    }
   ],
   "source": [
    "#Step 1\n",
    "\n",
    "#change pd.series to list for embedding etc..\n",
    "documents = news_df['document'].tolist()\n",
    "\n",
    "print(documents[:2],'\\n')\n",
    "\n",
    "#chunk tests prior to embeding\n",
    "#chunked_texts = list(map(chunking_doc,documents))\n",
    "chunked_texts = [chunk for doc in documents for chunk in chunking_doc(doc)]\n",
    "\n",
    "#preview output\n",
    "print(len(chunked_texts))"
   ]
  },
  {
   "cell_type": "markdown",
   "id": "17193127",
   "metadata": {},
   "source": [
    "## 2. Create embeddings and Faiss index (Semanntic search)"
   ]
  },
  {
   "cell_type": "code",
   "execution_count": 9,
   "id": "6bd5adc2",
   "metadata": {},
   "outputs": [
    {
     "name": "stderr",
     "output_type": "stream",
     "text": [
      "C:\\Users\\On3B3\\AppData\\Local\\Temp\\ipykernel_24368\\1198923058.py:12: LangChainDeprecationWarning: The class `HuggingFaceEmbeddings` was deprecated in LangChain 0.2.2 and will be removed in 1.0. An updated version of the class exists in the :class:`~langchain-huggingface package and should be used instead. To use it run `pip install -U :class:`~langchain-huggingface` and import as `from :class:`~langchain_huggingface import HuggingFaceEmbeddings``.\n",
      "  embedding_model= HuggingFaceEmbeddings(model_name=emb_model_id,\n"
     ]
    }
   ],
   "source": [
    "#Step 2 Create EMbeddings and FAISS index\n",
    "\n",
    "model_emb_id=\"sentence-transformers/all-MiniLM-L6-v2\"\n",
    "emb_file_path = \"./embedding_model\"\n",
    "device_name = 'cuda'\n",
    "faiss_file_path = \"./faiss_index\"\n",
    "\n",
    "#intialize embedding model\n",
    "#emb_model= initialize_embedding(model_emb_id)\n",
    "\n",
    "#load saved model with Huggin face embeddings\n",
    "embedding_model = load_embedding_model(emb_file_path,device_name)\n",
    "\n",
    "\n",
    "#create faiss index\n",
    "#faiss_index = initialize_faiss(chunked_texts,embedding_model)\n",
    "\n",
    "#load faiss index\n",
    "faiss_index = load_faiss_index(faiss_file_path,embedding_model)"
   ]
  },
  {
   "cell_type": "code",
   "execution_count": null,
   "id": "443cc1ff",
   "metadata": {},
   "outputs": [
    {
     "name": "stdout",
     "output_type": "stream",
     "text": [
      "Score: 0.553\n",
      "Headline: Biden Easing Foreign Travel Restrictions, Requiring Vaccines\n",
      "Date: 2021-09-20\n",
      "Author: ZEKE MILLER, AP\n",
      "Summary: President Joe Biden will ease foreign travel restrictions into the U.S. beginning in November, when his administration will require all foreign travelers flying into the country to be fully vaccinated....\n",
      "\n",
      "Score: 0.575\n",
      "Headline: Joe Biden’s ‘Vaccine Mandate’ Has An Alternative: Weekly Tests\n",
      "Date: 2021-12-04\n",
      "Author: Arthur Delaney, Dave Jamieson, and Igor Bobic\n",
      "Summary: But the testing option won't be fun, and maybe that's the idea....\n",
      "\n",
      "Score: 0.615\n",
      "transition and continuing through virtually all of his public remarks, Biden has urged Americans to get vaccinated to protect themselves as well as their families and neighbors. He repeated that message again Monday. “Virtually all hospitalizations and deaths are occurring among unvaccinated Americans,” he said. “If you’re unvaccinated, you are not protected. So, please, please get vaccinated. Get vaccinated now. It works. It’s safe. It’s free. It’s convenient.” Trump, while he has claimed credit for the...\n",
      "\n",
      "Score: 0.648\n",
      "Article: WASHINGTON ― A faction of congressional Republicans threatened to shut down the government this week over what they call President Joe Biden’s “vaccine mandate.” The rule from the Occupational Safety and Health Administration would not require employers to take action against unvaccinated workers so long as they’re willing to be tested weekly for COVID-19 ― but Republicans have ignored that part of the regulation. “When you’re unwilling to describe something accurately, it betrays a weakness in...\n",
      "\n",
      "Score: 0.720\n",
      "population wide immunity you have based on vaccination.” The warnings echo those of current Biden administration officials, including Dr. Anthony Fauci, whourged Americans earlier this monthto get their vaccinations. While the Delta variant is spreading rapidly, a recent study found that the Pfizer-BioNTech vaccine is88% effective against the straintwo weeks after the second dose. Gottlieb said proof of vaccine efficacy underscored the need for the Biden administration to rethink its vaccination campaign....\n",
      "\n"
     ]
    }
   ],
   "source": [
    "#test functionality of 'FAISS similarity search'\n",
    "\n",
    "query = \"Joe Biden vaccine mandate\"\n",
    "query_embedding = embedding_model.embed_query(query)  # Correct method\n",
    "\n",
    "#Search using LangChain's method \n",
    "docs_and_scores = faiss_index.similarity_search_with_score(query, k=5)\n",
    "\n",
    "#Display results\n",
    "for doc, score in docs_and_scores:\n",
    "    print(f\"Score: {score:.3f}\")\n",
    "    print(doc.page_content + \"...\\n\")"
   ]
  },
  {
   "cell_type": "markdown",
   "id": "d40f3063",
   "metadata": {},
   "source": [
    "## 3. Implement TF-IDF and cosine similairty (keyword search)"
   ]
  },
  {
   "cell_type": "code",
   "execution_count": 12,
   "id": "ecf85575",
   "metadata": {},
   "outputs": [],
   "source": [
    "#import require library\n",
    "from sklearn.feature_extraction.text import TfidfVectorizer \n",
    "from sklearn.metrics.pairwise import cosine_similarity\n"
   ]
  },
  {
   "cell_type": "code",
   "execution_count": 13,
   "id": "38319866",
   "metadata": {},
   "outputs": [],
   "source": [
    "#Initialize TF-IDF vectorizer\n",
    "tf_idf= TfidfVectorizer(\n",
    "    stop_words='english',#remove stop words before tokenizing\n",
    "    lowercase=True,       #convert to lowercase before tokenizing\n",
    "    ngram_range=(1,2)      #Use uni and bigrams\n",
    ")\n",
    "\n",
    "#text to be vectorized\n",
    "documents = news_df['document'].tolist()\n",
    "\n",
    "tf_idf_matrix = tf_idf.fit_transform(documents)\n"
   ]
  },
  {
   "cell_type": "code",
   "execution_count": 14,
   "id": "241ff8c7",
   "metadata": {},
   "outputs": [],
   "source": [
    "def keyword_search(query,tfidf_matrix,vectorizer,documents,k=5):\n",
    "    ''' Search documents based on keywords\n",
    "\n",
    "    query: Search string (must be non-empty)\n",
    "        tfidf_matrix: Precomputed TF-IDF document vectors\n",
    "        vectorizer: Fitted TF-IDF vectorizer instance\n",
    "        documents: List of original document texts\n",
    "        k: Number of top results to return (default: 5)\n",
    "    \n",
    "    Returns:\n",
    "        List of top matching documents, or None if error occurs\n",
    "    '''\n",
    "\n",
    "    if not isinstance(query,str) or not query.strip():\n",
    "        raise ValueError(\"Query must be a non empty string\")\n",
    "    \n",
    "    #ensure documents are string\n",
    "    documents = [str(doc) if not isinstance(doc,str) else doc for doc in documents]\n",
    "    \n",
    "    try:\n",
    "        try:\n",
    "            #transform query using vecotizer\n",
    "            query_vector= vectorizer.transform([query])  #expect lists\n",
    "        except AttributeError as e:\n",
    "            print(f\"Vectorizer failed on input type: {type(query)}\")\n",
    "            raise\n",
    "\n",
    "        #search keyword: calculate cosine similarity\n",
    "        cosine_sim = cosine_similarity(query_vector, tfidf_matrix)\n",
    "\n",
    "        query_scores = cosine_sim[0] # cosine score for query\n",
    "\n",
    "        #handle scenarios where k > available documents\n",
    "        valid_k= min(k, len(documents))\n",
    "        \n",
    "        #get top-k indices and sort in desceding order\n",
    "        top_indices = query_scores.argsort()[-valid_k:][::-1] \n",
    "\n",
    "        # Return matching documents with scores \n",
    "        return [(documents[i], float(query_scores[i])) for i in top_indices]\n",
    "    \n",
    "    except Exception as e:\n",
    "        print(f'Keyword search failed: {str(e)}')\n",
    "        return []\n",
    "\n",
    "\n",
    "\n"
   ]
  },
  {
   "cell_type": "code",
   "execution_count": 15,
   "id": "2e4d46eb",
   "metadata": {},
   "outputs": [
    {
     "data": {
      "text/plain": [
       "[(\"Headline: Federal Judge Suspends New York City's Vaccine Mandate For Teachers\\nDate: 2021-09-25\\nAuthor: Michael Hill, AP\\nSummary: But the district is confident that it will prevail.\\nArticle: New York City schools have been temporarily blocked from enforcing a vaccine mandate for its teachers and other workers by a federal appeals judge just days before it was to take effect. Workers in the nation’s largest school system were to be required to show vaccination proof starting Monday. But late Friday, a judge for the 2nd U.S. Circuit Court of Appeals granted a temporary injunction sought by a group of teachers and referred the case to a three-judge panel an an expedited basis. Department of Education spokesperson Danielle Filson said that officials are seeking a speedy resolution and that the circuit court has the motion on its calendar for Wednesday. “We’re confident our vaccine mandate will continue to be upheld once all the facts have been presented, because that is the level of protection our students and staff deserve,” Filson said in an email. The New York Postreportedthat the department sent an email to principals Saturday morning saying they “should continue to prepare for the possibility that the vaccine mandate will go into effect later in the week.” Mayor Bill de Blasio announced in August that about 148,000 school employees would have to get at least a first dose of the COVID-19 vaccination by Sept. 27. The policy covers teachers, along with other staffers, such as custodians and cafeteria workers. It’s the first no-test-option vaccination mandate for a broad group of city workers in the nation’s most populous city. And it mirrors a similar statewide mandate for hospital and nursing home workers set to go into effect Monday. As of Friday, 82% of department employees have been vaccinated, including 88% of teachers. Even though most school workers have been vaccinated, unions representing New York City principals and teachers warned that could still leave the 1 million-student school system short of as many as 10,000 teachers, along with other staffers. De Blasio has resisted calls to delay the mandate, insisting the city was ready. “We’ve been planning all along. We have a lot of substitutes ready,” the Democrat said in a radio interview on Friday. “A lot is going to happen between now and Monday but beyond that, we are ready, even to the tune of, if we need thousands, we have thousands.” By entering your email and clicking Sign Up, you're agreeing to let us send you customized marketing messages about us and our advertising partners. You are also agreeing to ourTerms of ServiceandPrivacy Policy.\",\n",
       "  0.2512969006990108),\n",
       " (\"Headline: Joe Biden’s ‘Vaccine Mandate’ Has An Alternative: Weekly Tests\\nDate: 2021-12-04\\nAuthor: Arthur Delaney, Dave Jamieson, and Igor Bobic\\nSummary: But the testing option won't be fun, and maybe that's the idea.\\nArticle: WASHINGTON ― A faction of congressional Republicans threatened to shut down the government this week over what they call President Joe Biden’s “vaccine mandate.” The rule from the Occupational Safety and Health Administration would not require employers to take action against unvaccinated workers so long as they’re willing to be tested weekly for COVID-19 ― but Republicans have ignored that part of the regulation. “When you’re unwilling to describe something accurately, it betrays a weakness in your position,” Sen. Tim Kaine (D-Va.) said on the Senate floor Thursday evening. “It’s not a vaccine mandate. It is a vaccine-or-testing mandate.” Indeed, the OSHA rule, which istied up in courtand hasn’t taken effect, does not require people to get shots. It requires large employers to implement programs in which workerswho work indoorseither get vaccinated or wear a mask and undergo weekly testing for COVID-19. Employers, if they choose, can mandate that their workers get the jab(as many employers already do). But OSHA’s rule allows every employer the leeway to test. Kaine is not the only supporter of the rule annoyed by Republicans’ lack of nuance. David Michaels, who ran OSHA under former President Barack Obama, said that employers don’t have to force a vaccine on anyone — they just have to keep infected workers out of the workplace. “Misrepresenting OSHA’s rule is a cynical tactic by Republican politicians and anti-vaxxers who seem to want to prolong the pandemic and the misery it has brought, in order to hurt the Biden Administration,” Michaels said in an email. Testing is anoptionunder the rule, but it would probably be an annoying one — and that may be the idea. In itspreambleto the rule’s text, OSHA calls vaccination “the most effective and efficient control available” to prevent transmission of the virus. The logistical and financial hurdles to weekly tests make vaccination more attractive. OSHA’s rule would not force employers to foot the bill for testing, raising questions about how the cost would be covered. Federal law requires insurers to cover the cost of COVID-19 tests, but not for tests done as part of workplace screening. The Biden administration announced Thursday that insurers will have to reimburse the cost of over-the-counter tests. Such tests are acceptable under the OSHA rule if they are Food and Drug Administration-approved, but it’s not clear if insurers will have to reimburse for tests done for the sake of OSHA compliance. Even if they are covered, having tohaggle with one’s insurance companywould be a headache. Another headache: “Home” tests not done under the supervision of a manager would have to be observed by a “telehealth proctor.” Dr. Leana Wen, an emergency physician and public health professor at George Washington University, said the Biden administration should clarify if regular over-the-counter tests for work must be reimbursed. But she also said there is a good public health reason for the weekly testing regime to be somewhat obnoxious. “Ingeneral, we need to make vaccination an easy and convenient choice, so having employees be required to mask and test is the right thing to do for public health reasons,” Wen said in an interview. “It adds an additional incentive for vaccination.” Republicans have omitted the testing option from their descriptions of the mandate, but they shrugged it off when asked about it. Sen. Roger Marshall (R-Kansas), the ringleader of the Senate Republicans attacking the mandate, said he thought firms with more than 100 employees ― the threshold for being subject to the requirement ― could not possibly handle testing their workforce every week. “I’ve talked to hundreds of business owners back home, and they think it’s almost impossible to do that,” Marshall told HuffPost. “It is a huge inconvenience.” Marshall added, “Frankly, some of those people don’t want to be tested, either.” Other Republicans also brushed off the testing option. “The government’s role is to just give us good information and let us make our own decision,” Sen. Rick Scott (R-Fla.) said. “Testing is expensive and it’s a burden,” Sen. John Kennedy (R-La.) added. Some Republicans seemed unfamiliar with the testing alternative. “I hadn’t even heard of it,” Sen. James Inhofe (R-Okla.) said, noting that he’d been spending “every waking minute” on a national defense authorization bill. Inhofe was one of the Republicans who signed a letter calling the vaccine requirement “immoral.” “My understanding is that there’s not necessarily an opt-out, but even so, I mean, nobody should have to go through like a daily, weekly, whatever testing protocol,” Rep. Chip Roy (R-Texas) said. (Vaccine rules for federal workers and members of the armed forces don’t have the same testing options.) State Republican officials have sued to stop the OSHA rule from moving forward, and a federal court granted atemporary stayblocking it on the grounds it raises “grave” constitutional issues. The case will go before a panel of judges at the conservative-leaning U.S. Court of Appeals for the 6th Circuit, then possibly the Supreme Court. Even if the administration is successful, the litigation could push implementation of the vaccine-or-test deadline well beyond Jan. 4. It’s hard to say how most employers will respond to the testing piece of the rule, assuming the regulation survives. Some may be happy to implement a vaccine requirement as many large employers already have, using the OSHA rule as cover. Others may want to maintain the testing opt-out to prevent any vaccine resisters from leaving, so long as they find the testing workable. Jordan Barab, a work safety expert and former OSHA official, said he believes the testing option would be a viable one, assuming the price of tests comes down. From a public-health perspective, Barab would prefer that the OSHA rule did not have a testing hatch door at all. But if the opt-out is there, he argues that employers should have to bear the cost of testing, so that more of them choose to forgo it. Big money interests are running the government — and influencing the news you read. While other outlets are retreating behind paywalls and bending the knee to political pressure, HuffPost is proud to be unbought and unfiltered.Will you help us keep it that way?You can even access our stories ad-free. You've supported HuffPost before, and we'll be honest — we could use your help again. We won't back down from our mission of providing free, fair news during this critical moment. But we can't do it without you. For the first time,we're offering an ad-free experienceto qualifying contributors who support our fearless journalism. We hope you'll join us. You've supported HuffPost before, and we'll be honest — we could use your help again. We won't back down from our mission of providing free, fair news during this critical moment. But we can't do it without you. For the first time,we're offering an ad-free experienceto qualifying contributors who support our fearless journalism. We hope you'll join us. Already contributed?Log in to hide these messages. “If OSHA ultimately would like employers to mandate vaccinations, then they should have made it uncomfortable for employers” to opt out, Barab said. CORRECTION: A previous version of this story misidentified the state Sen. Roger Marshall represents. By entering your email and clicking Sign Up, you're agreeing to let us send you customized marketing messages about us and our advertising partners. You are also agreeing to ourTerms of ServiceandPrivacy Policy.\",\n",
       "  0.20271628003715406),\n",
       " ('Headline: Southwest Airlines Pilot Told Passengers \\'Let\\'s Go Brandon\\' In Anti-Biden Dig: Reporter\\nDate: 2021-10-31\\nAuthor: Nina Golgowski\\nSummary: The phrase, which is a PG way of saying \"f**k Joe Biden,\" reportedly provoked audible gasps from some passengers.\\nArticle: ASouthwest Airlinespilot reportedly told passengers Friday over the plane’s intercom: “Let’s go Brandon” ― a code phrase that’sbeing usedto mean “f**kJoe Biden.” The phrase was announced to some audible gasps from passengers on the morning flight from Houston to Albuquerque, New Mexico, according to Associated Press reporter Colleen Long who said she was on the flight and heard the announcement. Long said sheunsuccessfully attemptedto get a comment from the pilot while still on the plane. The airline in a later statement told her that “behavior from any individual that is divisive or offensive is not condoned.” The phrase has become a PG way of insulting Biden after a NASCAR crowd was heard shouting “Fuck Joe Biden” at an event in early October. A reporter at the scene mistook the crowd as saying “Let’s go, Brandon,” in support of driver Brandon Brown after he won his first NASCAR Xfinity Series race. Friday’s incident may not have been the first time a pilot made such a declaration on a flight, as avideo posted to TikTokon Oct. 11 claims to have captured another Southwest Airlines pilot telling passengers “Let’s go Brandon” while welcoming them aboard. 💀💀💀 People who commented on the video, whose identities could not be independently verified by HuffPost, said they had similar experiences with Southwest, as well as Delta. A representative for Southwest Airlines told HuffPost in a statement Sunday that an internal investigation has been launched into the pilot’s reported behavior. The statement said that it does not condone its employees sharing their personal political opinions while on the job and that one employee’s opinion should not be taken as a representation for all of its employees. Biden’s impending COVID-19 vaccine mandate for federal workers, including airline employees, has created turmoil among Southwest Airline workers. The airline’s pilot union unsuccessfully sought a temporary restraining order against the mandate this month, claiming the vaccine could have medical side effects that could jeopardize a pilot’s career. Big money interests are running the government — and influencing the news you read. While other outlets are retreating behind paywalls and bending the knee to political pressure, HuffPost is proud to be unbought and unfiltered.Will you help us keep it that way?You can even access our stories ad-free. You\\'ve supported HuffPost before, and we\\'ll be honest — we could use your help again. We won\\'t back down from our mission of providing free, fair news during this critical moment. But we can\\'t do it without you. For the first time,we\\'re offering an ad-free experienceto qualifying contributors who support our fearless journalism. We hope you\\'ll join us. You\\'ve supported HuffPost before, and we\\'ll be honest — we could use your help again. We won\\'t back down from our mission of providing free, fair news during this critical moment. But we can\\'t do it without you. For the first time,we\\'re offering an ad-free experienceto qualifying contributors who support our fearless journalism. We hope you\\'ll join us. Already contributed?Log in to hide these messages. The airline on Oct. 4 initially said it would terminate employees who did not comply with the mandate. It later reversed this threat, saying it would work to help its vaccine-adverse workers get an “accommodation.” These decisions came amidwidespread flight disruptions, which the airline blamed on bad weather and air traffic control issues, though it’s been suggested the cancellations were related to pilots going on strike over Biden’s vaccine mandate. Southwest denied that claim. By entering your email and clicking Sign Up, you\\'re agreeing to let us send you customized marketing messages about us and our advertising partners. You are also agreeing to ourTerms of ServiceandPrivacy Policy.',\n",
       "  0.19496357927151609),\n",
       " (\"Headline: New York City To Let Unvaccinated Athletes Play Home Games\\nDate: 2022-03-24\\nAuthor: Michelle L. Price, AP\\nSummary: The city's vaccine mandate will still apply for workers in other jobs.\\nArticle: NEW YORK (AP) — New York City’s mayor will announce Thursday that he’s exempting athletes and performers from the city’s vaccine mandate for private workers, a move that will allow Brooklyn Nets star Kyrie Irving to play home games and unvaccinated baseball players to take the field when their season begins. Mayor Eric Adams will make the announcement Thursday morning and it will be effective immediately, according to a person familiar with the upcoming announcement who was not authorized to discuss it publicly. The city’s sweeping vaccine mandate for workers will still apply to people with other types of jobs, including government employees. Adams had said he felt the vaccine rule was unfair when it came to athletes and performers because a loophole in the measure, imposed under his predecessor, allowed visiting players and performers who don’t work in New York to still play or perform even if they are unvaccinated. Irving, a vaccine holdout, had been among the most high-profile people impacted. He was able tore-join the team in Januarybut only when they played out of town games. Irving and Nets coach Steve Nash said they didn’t want to comment until after an official announcement. Irving scored 43 points Wednesday night on his 30th birthday in a 132-120 loss in Memphis after scoring a career-high 60 on March 15 in Orlando in the last game he was eligible to play. The Nets need him as they push for a playoff spot with nine games left in their regular season. “It just turns the whole team around when he’s out there, so hopefully we get some good news,” Nets star Kevin Durant said. This month, concerns had been raised that the rule would also impact Major League Baseball. Yankees star Aaron Judgerefused to directly answer a question about his vaccine statusearlier this month, leading to speculation that another New York team would be hobbled by a player’s refusal to get inoculated. When asked Wednesday about a possible vaccine exemption, Judge said he was “happy Kyrie can play some home games.” “If the mandate is not there, it’s good for Kyrie,” Judge told The Associated Press during spring training in Tampa, Florida, adding he “wasn’t too worried” about the mandate’s effect on the Yankees. The Yankees, who open their season at home against the Boston Red Sox on April 7, said earlier this month that the team president was “working with city hall and all other appropriate officials on this matter.” The Yankees declined comment Wednesday. Adams, a Mets fan, is scheduled to make an “economic and health-related announcement” Thursday morning at Citi Field, where the Mets play, according to his official calendar that was released Wednesday night. Adams has beenrolling back vaccine mandates and other coronavirus restrictions, including on Tuesday when he said masks could become optional for children under 5 starting April 4. Mask mandates for older children have already been removed, as well as rulesrequiring people to show proof of vaccinationto dine in a restaurant, work out at a gym, attend a show, or go to an indoor sporting event. New York City Mayor Bill de Blasio made vaccination mandatory as a workplace safety rule last year, before leaving office. All employers are supposed to bar unvaccinated workers from being in shared workplaces. The city suspended numerous public employees for refusing to get vaccinated, including public servants like firefighters and sanitation workers. Big money interests are running the government — and influencing the news you read. While other outlets are retreating behind paywalls and bending the knee to political pressure, HuffPost is proud to be unbought and unfiltered.Will you help us keep it that way?You can even access our stories ad-free. You've supported HuffPost before, and we'll be honest — we could use your help again. We won't back down from our mission of providing free, fair news during this critical moment. But we can't do it without you. For the first time,we're offering an ad-free experienceto qualifying contributors who support our fearless journalism. We hope you'll join us. You've supported HuffPost before, and we'll be honest — we could use your help again. We won't back down from our mission of providing free, fair news during this critical moment. But we can't do it without you. For the first time,we're offering an ad-free experienceto qualifying contributors who support our fearless journalism. We hope you'll join us. Already contributed?Log in to hide these messages. The creation of special exemptions for athletes or entertainers could potentially lead to court challenges arguing the city isn’t applying the law evenly. ___ AP freelance writer Mark Didtler in Tampa, Florida, contributed to this report. By entering your email and clicking Sign Up, you're agreeing to let us send you customized marketing messages about us and our advertising partners. You are also agreeing to ourTerms of ServiceandPrivacy Policy.\",\n",
       "  0.19365405122116533),\n",
       " ('Headline: News Organizations Caught In Biden Limbo Along With Biden\\nDate: 2015-10-07\\nAuthor: Michael Calderone and Sam Stein\\nSummary: The vice president\\'s delay has fueled more intense media attention than he\\'s gotten during seven years in office.\\nArticle: NEW YORK -- “Will He Run? Biden Speculation Mounts.” ThatWall Street Journal headlineappeared on June 28, but it could be just as applicable this week as Vice President Joe Biden still is in the process of considering a third run for president, challenging Democratic front-runner Hillary Clinton and insurgent candidate Sen. Bernie Sanders (I-Vt). The summer Biden boomlet has stretched into fall as unnamed confidants, friends, advisers -- and apparently Biden himself -- provide fodder for journalists trying to advance the story. The biggest nugget came in that June 28 Journal story, which reported that Beau Biden urged his father to run for president before his death in May -- details attributed to “Biden friends and advisers.” This was followed by a Maureen Down column in the Times describing the scene in vivid detail. But Politico unleashed the latest torrent of speculation Tuesday with a different angle on the son’s dying wish. Edward-Isaac Doverereportedthat the vice president himself had told Dowd about Beau’s wish that he run -- an anecdote relayed without attribution inher Aug. 1 column. Politico framed the story as Biden having \"leaked\" his private exchange with Beau as a calculated move to anonymously advertise his intentions in pages of the Times. A more charitable characterization might be that Biden had a conversation with Dowd, telling a story about his son that he’d told others, and allowed her to use it without attribution. Biden’s office denounced the Politico story without commenting specifically on whether he spoke to Dowd. “The bottom line on the Politico story is that it is categorically false and the characterization is offensive,” a spokesperson said in a statement. Dowd did not return calls requesting comment as to how the interaction with her source played out. Regardless of who called who first, the Politico \"exclusive\" was just the latest course in a feeding frenzy of Biden news that -- even considered collectively -- hasn\\'t added up to all that much. The vice president remains, much like in June, on the edge of running. And being in that political limbo has given him the type of intense political coverage that basically has eluded his office for years. In February,CNNreported that Biden would make a decision \"by the end of the summer.\"U.S. News reported in June that adecision would come by the end of July. CNN reported that advisers had instructed him tochoose whether to runby the end of September. In August, the Associated Pressreported that a decision was coming aftera weeklong retreat with his family; two weeks later, the APreported that hewould make a decisionby Oct. 1. In September, the Wall Street Journal said a decision could come \"well into the fall.\" This week, CBS News reported that he couldcome down one way or anotherwithin seven to 10 days. At some point along the way, it became clear that things weren\\'t moving as quickly as envisioned, which promptedSalon to run a piecein late September titled \"What is Taking Joe Biden So Long?\" This week, the Washington Post\\'s Dana Milbanklampooned the\"never-ending\" Biden delay. Google the phrase \"Will he or won\\'t he,\" and you\\'ll find aWeekly Standard articleon Biden from April, aPolitico itemfrom August, anMSNBC segmentfrom a few weeks later and aWashington Post articlefrom October. The Post followed up that article Wednesday bypolling readersabout whether or not they think the VP will run. On Tuesday,CNN, MSNBC and Fox News all did segments onDovere’s piece, which itself came on the heels ofa separate \"exclusive\"from colleague Mike Allen Monday that Biden is expected to make a decision by next weekend. While Biden has spoken publicly about uncertainty about running and his grieving process, he’s given the press little by way of firm dates (which, of course, he may still not know). That’s forced journalists to turn to sources in or around the VP\\'s orbit, most of whom will only speak anonymously -- a “Democrat close to the process,” a “former Senate colleague,” a “longtime friend,\" in Allen’s case. Some “friends” evenexpressed their concernsabout Biden running to The New York Times in August, saying they were hesitant to do so directly to the vice president. And some Democratic senators channeled their concerns Wednesdaythrough CNN. The Washington Postconducted a Q&Awith its own reporter, Paul Kane, who has covered Biden over the years, to glean whatever insights he might have. News outlets have been placed in a difficult position: fearful of missing a major campaign development but forced, in a way, to cover a candidate who doesn\\'t exist. Many have declined to assign someone permanently to the story. Still, a nascent Biden beat has developed in recent months, largely comprised of reporters who reported on him as a senator, a candidate in 2008 and 2012 or are currently tasked with covering the White House. TheLos Angeles Times’ Mike Memoli and ABC News’ Arlette Saenz, who covered Biden as campaigns embeds in 2008 and 2012 respectively, are among the Washington reporters covering any news developments or public appearances. Associated Press White House reporter Josh Lederman has been covering Biden 2016 news at his organization. Several New York Times reporters across the politics and White House desks -- including Maggie Haberman, Jonathan Martin, Amy Chozick, Carl Hulse, Jason Horowitz, and Peter Baker -- have contributed to the paper\\'s Biden 2016 coverage in recent months.Though The Times has not assigned anyone to Biden full-time, political editor Carolyn Ryan said in an email that “we are discussing how to cover him when and if he gets in.” The Huffington Post hasn’t assigned anyone to the Biden beat, either, but didreport on July 18that he was still considering a run. The Journal’s Colleen Nelson and Peter Nicholas, who wrote the aforementioned June 28 article, along with White House reporter Carol Lee, have all covered the Biden buzz in recent months (and years!). Dovere, a White House reporter whocleverly broke the detailsof Biden’s emotional interview with Late Show host Stephen Colbert by attending the show in person, has taken the lead on the Biden 2016 beat, according to editor Susan Glasser. Big money interests are running the government — and influencing the news you read. While other outlets are retreating behind paywalls and bending the knee to political pressure, HuffPost is proud to be unbought and unfiltered.Will you help us keep it that way?You can even access our stories ad-free. You\\'ve supported HuffPost before, and we\\'ll be honest — we could use your help again. We won\\'t back down from our mission of providing free, fair news during this critical moment. But we can\\'t do it without you. For the first time,we\\'re offering an ad-free experienceto qualifying contributors who support our fearless journalism. We hope you\\'ll join us. You\\'ve supported HuffPost before, and we\\'ll be honest — we could use your help again. We won\\'t back down from our mission of providing free, fair news during this critical moment. But we can\\'t do it without you. For the first time,we\\'re offering an ad-free experienceto qualifying contributors who support our fearless journalism. We hope you\\'ll join us. Already contributed?Log in to hide these messages. “When a sitting veep is maybe running for president against his former Secretary of State colleague, our appetite for that coverage is running pretty high at the moment,” Glasser said. Biden may decide not to throw his hat in the ring at all. But by drawing out his decision over several months, the would-be candidate has accomplished something remarkable. The press coverage of him is more intense now than at any point during his actual time as vice president, save, perhaps, the immediate aftermath of his endorsement of gay marriage. By entering your email and clicking Sign Up, you\\'re agreeing to let us send you customized marketing messages about us and our advertising partners. You are also agreeing to ourTerms of ServiceandPrivacy Policy.',\n",
       "  0.13091898835963264)]"
      ]
     },
     "execution_count": 15,
     "metadata": {},
     "output_type": "execute_result"
    }
   ],
   "source": [
    "#test functionality of 'keyword_search()'\n",
    "\n",
    "query = \"Biden vaccine mandate for workers\"\n",
    "\n",
    "keyword_search(query=query,\n",
    "               tfidf_matrix=tf_idf_matrix,\n",
    "               vectorizer=tf_idf,\n",
    "               documents=documents)\n",
    "\n"
   ]
  },
  {
   "cell_type": "markdown",
   "id": "92732db2",
   "metadata": {},
   "source": [
    "Function works as expected:\n",
    "The scores suggest the first article is more relevant to the query, as it focuses more on worker mandates rather than the testing."
   ]
  },
  {
   "cell_type": "markdown",
   "id": "038f773d",
   "metadata": {},
   "source": [
    "## 4. Create Hybrid-search (semantic + keyword)"
   ]
  },
  {
   "cell_type": "code",
   "execution_count": 16,
   "id": "29cbd5a7",
   "metadata": {},
   "outputs": [],
   "source": [
    "# Hybrid search functionality: Fallback search, if semantic search lower than a set threshold use keyword search\n",
    "def model_search(embedding_model, faiss_db,query, k=5, threshold =0.4,\n",
    "                 tfidf_matrix=None, vectorizer=None, documents=None):\n",
    "    ''' Function dictates agents search logic: Semantic search -> Keyword search\n",
    "    args:\n",
    "    embedding_model: Sentence Transformer or other embedding model\n",
    "    faiss_db: Faiss index for semantic search\n",
    "    query: User search query\n",
    "    k: Number of documents to retrieve\n",
    "    threshold: Score threshold to trigger keyword fallback\n",
    "    tfidf_matrix: Precomputed TF-IDF matrix for keyword search\n",
    "    vectorizer: TF-IDF vectorizer\n",
    "    documents: Original documents for keyword search\n",
    "\n",
    "    Returns:\n",
    "        List of tuples (document_content, score)\n",
    "    '''\n",
    "    #Debug check if document type\n",
    "    #print(f\"First document type: {type(documents[0])}\")\n",
    "    #print(f\"Sample content: {documents[0][:100] if isinstance(documents[0], str) else documents[0]}\")\n",
    "    \n",
    "    if not isinstance(query,str) or not query.strip():\n",
    "        raise ValueError(\"Query must be a non empty string\")\n",
    "    try:\n",
    "        # --- SEMANTIC SEARCH PHASE ---\n",
    "        #print('Embedding query...')\n",
    "        #query_embed= embedding_model.embed_query(query) #embed query using Langchain method embed_query\n",
    "\n",
    "        print('Running semantic search ...')\n",
    "        try:\n",
    "            semantic_results =faiss_db.similarity_search_with_score(query,k) #search using LangChain's method\n",
    "        except Exception as e:\n",
    "            print(f'Semantic search failed: {str(e)}')\n",
    "            semantic_results =[]\n",
    "        \n",
    "        if semantic_results:\n",
    "            #print('check 2')\n",
    "            formatted_results =[]\n",
    "            for doc, score in semantic_results:\n",
    "\n",
    "                #hanlde both string and list content\n",
    "                if hasattr(doc,'page_content'):\n",
    "                    content = doc.page_content if isinstance(doc.page_content,str) else ' '.join(doc.page_content)\n",
    "                #normalized_score = (float(score)+1)/2\n",
    "                else:\n",
    "                    content = str(doc)\n",
    "            \n",
    "                formatted_results.append((content,float(score)))\n",
    "            #print('check 3')\n",
    "            # --- CONFIDENCE CHECK ---\n",
    "\n",
    "            #caluclate confidence metrix (average top 3 scores)\n",
    "            #print('check 4')\n",
    "            top_scores = [ score for _,score in semantic_results[:3]]\n",
    "            #print(top_scores)\n",
    "            semantic_confidence = sum(top_scores)/len(top_scores) if top_scores else 0\n",
    "\n",
    "            # --- FALLBACK DECISION ---\n",
    "            #Debug check if document type\n",
    "            #print(f\"First document type: {type(documents[0])}\")\n",
    "            #print(f\"Sample content: {documents[0][:100] if isinstance(documents[0], str) else documents[0]}\")\n",
    "\n",
    "            #Check if semantic confidence is < threshold\n",
    "            if semantic_confidence < threshold:\n",
    "                print('Semantic confidence value low\\nRunning keyword search ...')\n",
    "\n",
    "                #ensure documents are strings\n",
    "                doc_str =[]\n",
    "                for doc in documents:\n",
    "                    if isinstance(doc,str):\n",
    "                        doc_str.append(doc)\n",
    "                    elif isinstance(doc,list):\n",
    "                        doc_str.append(' '.join(str(x) for x in doc))\n",
    "\n",
    "                    else:\n",
    "                        doc_str.append(str(doc))\n",
    "\n",
    "                \n",
    "\n",
    "                keyword_results = keyword_search(query=query,\n",
    "                                                 tfidf_matrix=tfidf_matrix,\n",
    "                                                 vectorizer=vectorizer,\n",
    "                                                documents=doc_str) or [] \n",
    "            \n",
    "                combined_results = formatted_results + keyword_results #concatenate both results\n",
    "                print('Search Succesful: results include semantic and keyword search results')\n",
    "                return sorted(combined_results,\n",
    "                              key=lambda x:x[1], #sort by score\n",
    "                              reverse=True       # sort in descending order\n",
    "                              )[:k]              #return top k results\n",
    "\n",
    "            else:\n",
    "                print('Search Succesful')\n",
    "                return formatted_results[:k]\n",
    "        \n",
    "    except Exception as e:\n",
    "        print(f'Model encountered obstacles during search: {str(e)}')\n",
    "        return []\n",
    "\n",
    "    \n",
    "\n"
   ]
  },
  {
   "cell_type": "code",
   "execution_count": null,
   "id": "a078d1e8",
   "metadata": {},
   "outputs": [
    {
     "name": "stdout",
     "output_type": "stream",
     "text": [
      "Running semantic search ...\n",
      "Search Succesful\n",
      "Score: 0.601\n",
      "Article: WASHINGTON ― A faction of congressional Republicans threatened to shut down the government this week over what they call President Joe Biden’s “vaccine mandate.” The rule from the Occupationa...\n",
      "\n",
      "Score: 0.648\n",
      "Headline: Biden Easing Foreign Travel Restrictions, Requiring Vaccines\n",
      "Date: 2021-09-20\n",
      "Author: ZEKE MILLER, AP\n",
      "Summary: President Joe Biden will ease foreign travel restrictions into the U.S. beginni...\n",
      "\n",
      "Score: 0.651\n",
      "Headline: Joe Biden’s ‘Vaccine Mandate’ Has An Alternative: Weekly Tests\n",
      "Date: 2021-12-04\n",
      "Author: Arthur Delaney, Dave Jamieson, and Igor Bobic\n",
      "Summary: But the testing option won't be fun, and maybe ...\n",
      "\n",
      "Score: 0.658\n",
      "transition and continuing through virtually all of his public remarks, Biden has urged Americans to get vaccinated to protect themselves as well as their families and neighbors. He repeated that messa...\n",
      "\n",
      "Score: 0.678\n",
      "population wide immunity you have based on vaccination.” The warnings echo those of current Biden administration officials, including Dr. Anthony Fauci, whourged Americans earlier this monthto get the...\n",
      "\n"
     ]
    }
   ],
   "source": [
    "#test functionality of hybrid-search\n",
    "query = \"Biden vaccine mandate for workers\"\n",
    "results = model_search(\n",
    "    embedding_model=embedding_model,\n",
    "    faiss_db=faiss_index,\n",
    "    query=query,\n",
    "    tfidf_matrix=tf_idf_matrix,\n",
    "    vectorizer=tf_idf,\n",
    "    documents=documents\n",
    ")\n",
    "\n",
    "for content, score in results:\n",
    "    print(f\"Score: {score:.3f}\")\n",
    "    print(content[:200] + \"...\\n\")"
   ]
  },
  {
   "cell_type": "markdown",
   "id": "366c99cc",
   "metadata": {},
   "source": [
    "## 5. Create Agent for summary generation \n",
    "\n",
    "*Workflow*\n",
    "\n",
    "<li> Take a user query → retrieve relevant documents (via hybrid search) → generate a meaningful response using the google/gemma-7b-it LLM. "
   ]
  },
  {
   "cell_type": "code",
   "execution_count": 28,
   "id": "a74d9e53",
   "metadata": {},
   "outputs": [],
   "source": [
    "#import libraries\n",
    "from transformers import AutoTokenizer, AutoModelForCausalLM\n",
    "from transformers import pipeline\n",
    "from transformers import BitsAndBytesConfig\n",
    "import torch"
   ]
  },
  {
   "cell_type": "code",
   "execution_count": 29,
   "id": "ea3ad7aa",
   "metadata": {},
   "outputs": [],
   "source": [
    "#huggin face LLM\n",
    "model_name = \"google/gemma-7b-it\"   "
   ]
  },
  {
   "cell_type": "markdown",
   "id": "70817b89",
   "metadata": {},
   "source": [
    "### Agent: Generate summary of news"
   ]
  },
  {
   "cell_type": "code",
   "execution_count": 30,
   "id": "d5d949ae",
   "metadata": {},
   "outputs": [],
   "source": [
    "def generate_summary(documents, model_name= \"google/gemma-7b-it\", max_tokens=512):\n",
    "    \"\"\"Generate summary of content provided using Gemma LLM\n",
    "    \n",
    "    Args:\n",
    "        documents: List of tuples (document_content, score) from hybrid search\n",
    "        model_name: Name of the Gemma model variant\n",
    "        max_tokens: Maximum length of summary to generate\n",
    "        \n",
    "    Returns:\n",
    "        str: Generated summary text \n",
    "        \n",
    "        \"\"\"\n",
    "\n",
    "    # ------ 1. Prepare Input Text ------\n",
    "\n",
    "    content = [doc[0] for doc in documents] #get document from documents tuple(content, score)\n",
    "    input_doc = \"\\n\\n\".join(content[:3])  #join top 3 documents found\n",
    "\n",
    "    #truncate to model's context window if required\n",
    "    max_input_length = 8000   #model's max context window is 8192 tokens\n",
    "    if len(input_doc) > max_input_length:\n",
    "        input_doc = input_doc[:max_input_length]\n",
    "\n",
    "    #------2. Initialize LLM and tokenizer-------\n",
    "    \n",
    "    #initialize 4bit quantized version\n",
    "    quantization_config = BitsAndBytesConfig(load_in_4bit=True,\n",
    "                                             bnb_4bit_compute_dtype=torch.bfloat16,\n",
    "                                             bnb_4bit_quant_type=\"nf4\")\n",
    "\n",
    "    #initialize the LLM\n",
    "    model = AutoModelForCausalLM.from_pretrained(model_name,\n",
    "                                                 quantization_config=quantization_config,\n",
    "                                                   device_map=\"cuda\",\n",
    "                                                   torch_dtype=torch.bfloat16\n",
    "                                                   )\n",
    "\n",
    "    #initialize the tokenizer\n",
    "    tokenizer = AutoTokenizer.from_pretrained(model_name,\n",
    "                                              model_max_length= 8192)\n",
    "\n",
    "\n",
    "    #------3. Create Prompt --------\n",
    "    prompt = f\"\"\" Summarize the following documents about the search query. Focus on key facts,figures, and main points.\n",
    "    The summary should communicate the main theme of the document.\n",
    "    Keep it concise and factual.\n",
    "\n",
    "    Documents: {input_doc}\n",
    "\n",
    "    Summary:\"\"\"\n",
    "\n",
    "    #------4. Generate summary-------\n",
    "    inputs = tokenizer(prompt,\n",
    "                       return_tensors=\"pt\",\n",
    "                       #max_length= tokenizer.model_max_length - max_tokens,\n",
    "                       #return_overflowing_tokens=False,\n",
    "                       truncation=True).to(\"cuda\")\n",
    "\n",
    "    with torch.no_grad():\n",
    "        outputs = model.generate(\n",
    "            **inputs,\n",
    "            max_new_tokens=max_tokens,\n",
    "            do_sample=True,\n",
    "            temperature=0.6,\n",
    "            #num_beams=1,\n",
    "            top_k=50,\n",
    "            top_p=0.95,   \n",
    "        )\n",
    "\n",
    "    summary_results = tokenizer.decode(outputs[0], skip_special_tokens=True)\n",
    "\n",
    "    #remove the input prompt\n",
    "    summary_output =summary_results.replace(prompt,\"\").strip()\n",
    "\n",
    "    return summary_output"
   ]
  },
  {
   "cell_type": "code",
   "execution_count": 31,
   "id": "80e836e2",
   "metadata": {},
   "outputs": [
    {
     "name": "stdout",
     "output_type": "stream",
     "text": [
      "Running semantic search ...\n",
      "Search Succesful\n"
     ]
    },
    {
     "data": {
      "application/vnd.jupyter.widget-view+json": {
       "model_id": "d62b07e71b90405c9a64270b6cb0ad8d",
       "version_major": 2,
       "version_minor": 0
      },
      "text/plain": [
       "Loading checkpoint shards:   0%|          | 0/4 [00:00<?, ?it/s]"
      ]
     },
     "metadata": {},
     "output_type": "display_data"
    },
    {
     "name": "stdout",
     "output_type": "stream",
     "text": [
      "Generated Summary:\n",
      "The documents discuss the ongoing debate surrounding President Biden's vaccine mandate for foreign travelers and the potential consequences of the regulation. The key points highlighted in the articles include the requirement for foreign travelers to be fully vaccinated, the alternative option of weekly COVID-19 tests, and the potential impact of the mandate on various stakeholders. The main theme of the documents is the ongoing struggle between those who support and oppose the vaccine mandate.\n",
      "\n",
      "The articles emphasize that the vaccine mandate applies to foreign travelers and not domestic workers, addressing concerns raised about potential job loss due to the regulation. The testing option is intended to provide flexibility for individuals who are unable or unwilling to get vaccinated. However, the testing process itself is not without its challenges, as it requires regular testing and may be inconvenient for some.\n",
      "\n",
      "Overall, the documents provide a concise overview of the ongoing debate surrounding President Biden's vaccine mandate, highlighting the key facts and figures, and summarizing the main points of contention.\n"
     ]
    }
   ],
   "source": [
    "#Test functionality of Agent for document summarization'\n",
    "\n",
    "\n",
    "# Get documents from hybrid search\n",
    "search_results = model_search(\n",
    "    embedding_model=embedding_model,\n",
    "    faiss_db=faiss_index,\n",
    "    query=\"Biden vaccine mandate for workers\",\n",
    "    tfidf_matrix=tf_idf_matrix,\n",
    "    vectorizer=tf_idf,\n",
    "    documents=documents\n",
    ")\n",
    "\n",
    "# Generate summary\n",
    "summary = generate_summary(\n",
    "    documents=search_results,\n",
    "    model_name=\"google/gemma-7b-it\",\n",
    "    max_tokens=512\n",
    ")\n",
    "\n",
    "print(\"Generated Summary:\")\n",
    "print(summary)"
   ]
  },
  {
   "cell_type": "markdown",
   "id": "975ca695",
   "metadata": {},
   "source": [
    "## 6. Create Agent for linkedin post generation\n",
    "\n",
    "*Workflow*\n",
    "\n",
    "<li> Take a user query → retrieve relevant documents (via hybrid search) → Linkedin Post using the mistralai/Mistral-7B-Instruct-v0.2"
   ]
  },
  {
   "cell_type": "code",
   "execution_count": 32,
   "id": "70d527a5",
   "metadata": {},
   "outputs": [],
   "source": [
    "\n",
    "def generate_linkedin_post(documents, \n",
    "                           model_name= \"mistralai/Mistral-7B-Instruct-v0.2\", \n",
    "                           topic=\"news and media \",\n",
    "                           max_tokens=600):\n",
    "    \"\"\"Generate optimized LinkedIn posts from source content\n",
    "    \n",
    "    Args:\n",
    "        documents: List of (content, score) tuples from search\n",
    "        model_name: LLM identifier (default: Mistral 7B Instruct)\n",
    "        topic: Central theme for the post\n",
    "        max_tokens: Length control (400-700 ideal for LinkedIn)\n",
    "        \n",
    "    Returns:\n",
    "        str: Viral-ready LinkedIn post\n",
    "    \"\"\"\n",
    "    torch.cuda.empty_cache() #clear cache\n",
    "\n",
    "    # ------ 1. Prepare Input Text ------\n",
    "\n",
    "    content = [doc[0] for doc in documents] #get document from documents tuple(content, score)\n",
    "    input_doc = \"\\n- \".join(content[:3])  #join with bulleted list,top 3 documents found\n",
    "\n",
    "    #truncate to model's context window if required\n",
    "    max_input_length = 3000   #model's max context window is 32k tokens\n",
    "    if len(input_doc) > max_input_length:\n",
    "        input_doc = input_doc[:max_input_length]\n",
    "\n",
    "    #------2. Initialize LLM and tokenizer-------\n",
    "    \n",
    "    #initialize 4bit quantized version\n",
    "    quantization_config = BitsAndBytesConfig(load_in_4bit=True,\n",
    "                                             bnb_4bit_compute_dtype=torch.bfloat16,\n",
    "                                             bnb_4bit_quant_type=\"nf4\",\n",
    "                                             bnb_4bit_use_double_quant=True   # Extra memory savings\n",
    "                                             )   \n",
    "\n",
    "    #initialize the LLM\n",
    "    model = AutoModelForCausalLM.from_pretrained(model_name,\n",
    "                                                 quantization_config=quantization_config,\n",
    "                                                   device_map=\"cuda\",\n",
    "                                                   torch_dtype=torch.bfloat16\n",
    "                                                   )\n",
    "\n",
    "    #initialize the tokenizer\n",
    "    tokenizer = AutoTokenizer.from_pretrained(model_name,\n",
    "                                              model_max_length= 32768)\n",
    "\n",
    "\n",
    "    #------3. Create Prompt --------\n",
    "\n",
    "    prompt = f\"\"\"As a LinkedIn algorithm specialist, create a viral post about {topic} using:\n",
    "    - {input_doc}\n",
    "    \n",
    "    Apply these rules:\n",
    "    1. Hook: Start with surprising data or bold question\n",
    "    2. Body: 2 short paragraphs (3-4 sentences each)\n",
    "    3. Include:\n",
    "       - 1 verifiable statistic (add \"[Citation Needed]\" if unsure)\n",
    "       - 1 practical tip (use \"> Pro Tip:\" formatting)\n",
    "       - 1 discussion question\n",
    "    4. Formatting:\n",
    "       - 2 line breaks between sections\n",
    "       - 3 hashtags: 1 broad, 1 niche, 1 trending\n",
    "       - Max 2 emojis total\n",
    "       - 600-800 characters total\n",
    "\n",
    "    Linkedin Post:\"\"\"\n",
    "    \n",
    "\n",
    "    #------4. Generate summary-------\n",
    "    inputs = tokenizer(prompt,\n",
    "                       return_tensors=\"pt\",\n",
    "                       #max_length= tokenizer.model_max_length - max_tokens,\n",
    "                       #return_overflowing_tokens=False,\n",
    "                       truncation=True).to(\"cuda\")\n",
    "\n",
    "    with torch.no_grad():\n",
    "        outputs = model.generate(\n",
    "            **inputs,\n",
    "            max_new_tokens=max_tokens,\n",
    "            do_sample=True,\n",
    "            temperature=0.7,\n",
    "            #num_beams=1,\n",
    "            top_k=50,\n",
    "            top_p=0.90,\n",
    "            repetition_penalty=1.2   \n",
    "        )\n",
    "\n",
    "    linkedin_post_results = tokenizer.decode(outputs[0], skip_special_tokens=True)\n",
    "\n",
    "    #remove the input prompt\n",
    "    generated_post =linkedin_post_results.split(\"Linkedin Post:\")[-1].strip()\n",
    "    \n",
    "\n",
    "    return generated_post"
   ]
  },
  {
   "cell_type": "code",
   "execution_count": null,
   "id": "2e62563c",
   "metadata": {},
   "outputs": [
    {
     "name": "stdout",
     "output_type": "stream",
     "text": [
      "Running semantic search ...\n",
      "Search Succesful\n"
     ]
    },
    {
     "data": {
      "application/vnd.jupyter.widget-view+json": {
       "model_id": "3745000fdbaa4e619d2a5b19b80eb2f3",
       "version_major": 2,
       "version_minor": 0
      },
      "text/plain": [
       "Loading checkpoint shards:   0%|          | 0/3 [00:00<?, ?it/s]"
      ]
     },
     "metadata": {},
     "output_type": "display_data"
    },
    {
     "name": "stderr",
     "output_type": "stream",
     "text": [
      "Setting `pad_token_id` to `eos_token_id`:2 for open-end generation.\n"
     ]
    },
    {
     "name": "stdout",
     "output_type": "stream",
     "text": [
      "📰💡 [Surprising Stat]: Traditional newsroom budgets have plummeted by 75% since 2000 [Citation Needed]. But even as the landscape shifts dramatically, one thing remains constant: Good stories still reign supreme! 🤔 #JournalismRevolution #MediaReform\n",
      "\n",
      "    > Pro Tip: Use AI to find fresh angles & sources for your next big scoop. 🚀 #ContentMarketingHacks\n",
      "\n",
      "    🌍🌐 Discussion Question: How can artificial intelligence best be integrated into the journalism ecosystem? Are there any ethical considerations that must be addressed before implementation? Let us know below! 👇🏼 [Emoji 1: 🤝](https://emogip.me/emoticons/people/handshake/) [Emoji 2: 🤔](https://emogip.me/emoticons/thoughtful/)\n"
     ]
    }
   ],
   "source": [
    "#Test functionality of Agent for Linkedin post generation\n",
    "\n",
    "# Get documents from hybrid search\n",
    "search_results = model_search(\n",
    "    embedding_model=embedding_model,\n",
    "    faiss_db=faiss_index,\n",
    "    query= \"AI applications in modern journalism\",\n",
    "    tfidf_matrix=tf_idf_matrix,\n",
    "    vectorizer=tf_idf,\n",
    "    documents=documents\n",
    ")\n",
    "\n",
    "post = generate_linkedin_post(\n",
    "    documents=search_results,\n",
    "    topic=\"AI in journalism\",\n",
    "    model_name=\"mistralai/Mistral-7B-Instruct-v0.2\"\n",
    ")\n",
    "print(post)"
   ]
  },
  {
   "cell_type": "markdown",
   "id": "1b8755bd",
   "metadata": {},
   "source": [
    "## 7. Create request logic; manages all the agents"
   ]
  },
  {
   "cell_type": "markdown",
   "id": "f497f793",
   "metadata": {},
   "source": [
    "*Workflow*\n",
    "\n",
    "1. Take a user query → retrieve relevant documents (via hybrid search) → classify query intent → intent == news → Generate summary of documents\n",
    "2. Take a user query → retrieve relevant documents (via hybrid search) → classify query intent → intent == linkedin post → Generate draft Linkedin post"
   ]
  },
  {
   "cell_type": "code",
   "execution_count": 25,
   "id": "e3fb945f",
   "metadata": {},
   "outputs": [],
   "source": [
    "#Agent Routing Logic\n",
    "\n",
    "documents = news_df['document'].tolist()\n",
    "\n",
    "def classify_intent(query):\n",
    "    '''check for key word in query; then categorize '''\n",
    "\n",
    "    if not isinstance(query,str) or not query.strip():\n",
    "        raise ValueError(\"Query must be a non empty string\")\n",
    "    \n",
    "             \n",
    "    news_keywords = ['news', 'updates', 'article', 'headline', 'latest']\n",
    "    post_keywords = ['linkedin', 'post', 'share', 'generate', 'update']\n",
    "    \n",
    "    if any(keyword in query.lower() for keyword in news_keywords):\n",
    "        return 'news'\n",
    "    elif any(keyword in query.lower() for keyword in post_keywords):\n",
    "        return 'linkedin post'\n",
    "    else:\n",
    "        return 'unknown'\n",
    "    \n",
    "\n",
    "def route_request(query,embedding_model,faiss_db,tfidf_matrix,vecotrizer,documents,topic):\n",
    "    \"Determine which Agent is required based on user query\"\n",
    "    if not isinstance(query,str) or not query.strip():\n",
    "        raise ValueError(\"Query must be a non empty string\")\n",
    "     \n",
    "    search_results = model_search(embedding_model=embedding_model,\n",
    "                                  faiss_db=faiss_index,\n",
    "                                  query= query,\n",
    "                                  tfidf_matrix=tf_idf_matrix,\n",
    "                                  vectorizer=tf_idf,\n",
    "                                  documents=documents\n",
    "                                  )\n",
    "    try:\n",
    "         print(\"Classifying query intent...\")\n",
    "         intent = classify_intent(query)\n",
    "         if intent == 'news': \n",
    "            print('Classified as news; generating news summary...')\n",
    "            summary = generate_summary(documents=search_results,\n",
    "                                        model_name=\"google/gemma-7b-it\",\n",
    "                                        max_tokens=512\n",
    "                                        )\n",
    "            print('Summary successfully created...')\n",
    "            return summary\n",
    "         elif intent == 'linkedin post':\n",
    "            print('Classified as Linkedin post request; generating draft post...')\n",
    "            post = generate_linkedin_post(documents=search_results,\n",
    "                                          topic=topic,\n",
    "                                          model_name=\"mistralai/Mistral-7B-Instruct-v0.2\"\n",
    "                                          )\n",
    "            print('Post successfully created...')\n",
    "            return post\n",
    "         else:\n",
    "             print('Could not classify your intent')\n",
    "\n",
    "    except Exception as e:\n",
    "        print(f'Failed to classify query: {str(e)}')\n",
    "             \n",
    "\n",
    "            \n",
    "             \n",
    "     \n",
    "\n",
    "\n"
   ]
  },
  {
   "cell_type": "code",
   "execution_count": null,
   "id": "9b75f678",
   "metadata": {},
   "outputs": [
    {
     "name": "stdout",
     "output_type": "stream",
     "text": [
      "Running semantic search ...\n",
      "Search Succesful\n",
      "Classifying query intent...\n",
      "Classified as Linkedin post request; generating draft post...\n"
     ]
    },
    {
     "data": {
      "application/vnd.jupyter.widget-view+json": {
       "model_id": "a9acb3a743514e4da1eab054d504ad38",
       "version_major": 2,
       "version_minor": 0
      },
      "text/plain": [
       "Loading checkpoint shards:   0%|          | 0/3 [00:00<?, ?it/s]"
      ]
     },
     "metadata": {},
     "output_type": "display_data"
    },
    {
     "name": "stderr",
     "output_type": "stream",
     "text": [
      "Setting `pad_token_id` to `eos_token_id`:2 for open-end generation.\n"
     ]
    },
    {
     "name": "stdout",
     "output_type": "stream",
     "text": [
      "Post successfully created...\n",
      "🚨 Surprising News Alert! 🚨 Republican lawmakers threaten to shut down the govt over Biden's 'vaccine mandate.' But here's the kicker: There IS an alternative! [Citation Needed] #COVID19 #Politics\n",
      "\n",
      "    According to a recent report by HuffPost, a faction of Congressional Republicans is threatening to shut down the U.S. government over President Joe Biden's vaccine mandate. However, they seem to be ignoring a significant detail: employees can choose weekly tests instead of getting vaccinated [1]. This revelation comes as Biden continues to urge Americans to get vaccinated to protect themselves and their loved ones [2]. Here's a quick look at why testing might not be a popular choice > Pro Tip: If you're required to comply with workplace regulations regarding COVID-19, consider discussing the testing option with your employer before making a decision. <br>\n",
      "\n",
      "    What do you think? Is this an effective compromise for those who refuse to get vaccinated? Or will it only serve to fuel further controversy around the issue? Share your thoughts below! 🤔 #Compromise #PublicHealth #WorkplaceSafety\n",
      "\n",
      "[1] Arthur Delaney, Dave Jamieson, and Igor Bobic, \"Joe Biden’s ‘Vaccine Mandate’ Has An Alternative: Weekly Tests,\" HuffPost, December 5, 2021, https://www.huffpost.com/entry/biden-osha-covid-testing_n_61a7e76ec5b6faa6d03da3c0.\n",
      "[2] White House Press Briefing Room, \"Press Gaggle by Principal Deputy Press Secretary Karine Jean-Pierre, en route Joint Base Andrews – South Carolina,\" The White House, December 6, 2021, https://www.whitehouse.gov/briefing-room/press-gaggle/2021/12/06/background-press-call-by-principal-deputy-press-secretary-karine-jean-pierre-en-route-joint-base-andrews-south-carolina/.\n"
     ]
    }
   ],
   "source": [
    "#Test functionality of request routing logic \n",
    "\n",
    "query = \"Create a post about Biden vaccine mandate for workers\"\n",
    "results=route_request(embedding_model=embedding_model,\n",
    "                      faiss_db=faiss_index,\n",
    "                      query=query,\n",
    "                      tfidf_matrix=tf_idf_matrix,\n",
    "                      vecotrizer=tf_idf,\n",
    "                      documents=documents,\n",
    "                      topic='news and media')\n",
    "\n",
    "print(results)"
   ]
  }
 ],
 "metadata": {
  "kernelspec": {
   "display_name": "PRODENV3",
   "language": "python",
   "name": "python3"
  },
  "language_info": {
   "codemirror_mode": {
    "name": "ipython",
    "version": 3
   },
   "file_extension": ".py",
   "mimetype": "text/x-python",
   "name": "python",
   "nbconvert_exporter": "python",
   "pygments_lexer": "ipython3",
   "version": "3.9.21"
  }
 },
 "nbformat": 4,
 "nbformat_minor": 5
}
